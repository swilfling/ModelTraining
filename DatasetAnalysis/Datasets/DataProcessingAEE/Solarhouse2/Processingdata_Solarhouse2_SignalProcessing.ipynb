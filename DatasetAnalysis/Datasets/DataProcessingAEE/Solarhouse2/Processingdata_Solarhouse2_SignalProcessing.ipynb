{
 "cells": [
  {
   "cell_type": "code",
   "execution_count": 5,
   "outputs": [],
   "source": [
    "import os\n",
    "import tikzplotlib\n",
    "import pandas as pd\n",
    "import matplotlib.pyplot as plt\n",
    "import Utilities.DataProcessing.data_import as dp_utils\n",
    "import Utilities.Plotting.plot_distributions_spectra as plt_dist\n",
    "import Utilities.Plotting.plotting_utilities as plt_utils\n",
    "import Utilities.DataProcessing.signal_processing_utils as sigutils"
   ],
   "metadata": {
    "collapsed": false,
    "pycharm": {
     "name": "#%%\n"
    }
   }
  },
  {
   "cell_type": "code",
   "execution_count": 6,
   "outputs": [
    {
     "ename": "HDF5ExtError",
     "evalue": "HDF5 error back trace\n\n  File \"C:\\ci\\hdf5_1611496732392\\work\\src\\H5F.c\", line 793, in H5Fopen\n    unable to open file\n  File \"C:\\ci\\hdf5_1611496732392\\work\\src\\H5VLcallback.c\", line 3500, in H5VL_file_open\n    open failed\n  File \"C:\\ci\\hdf5_1611496732392\\work\\src\\H5VLcallback.c\", line 3465, in H5VL__file_open\n    open failed\n  File \"C:\\ci\\hdf5_1611496732392\\work\\src\\H5VLnative_file.c\", line 100, in H5VL__native_file_open\n    unable to open file\n  File \"C:\\ci\\hdf5_1611496732392\\work\\src\\H5Fint.c\", line 1707, in H5F_open\n    unable to read superblock\n  File \"C:\\ci\\hdf5_1611496732392\\work\\src\\H5Fsuper.c\", line 412, in H5F__super_read\n    file signature not found\n\nEnd of HDF5 error back trace\n\nUnable to open/create file 'D:\\GitHub\\TUG-CPS\\hybridcosim\\Data/AEE/P2017_20_Solarhouse_2.csv'",
     "output_type": "error",
     "traceback": [
      "\u001B[1;31m---------------------------------------------------------------------------\u001B[0m",
      "\u001B[1;31mHDF5ExtError\u001B[0m                              Traceback (most recent call last)",
      "\u001B[1;32mC:\\Users\\SWILFL~1\\AppData\\Local\\Temp/ipykernel_14704/1534646969.py\u001B[0m in \u001B[0;36m<module>\u001B[1;34m\u001B[0m\n\u001B[0;32m     18\u001B[0m     \u001B[0mstart\u001B[0m \u001B[1;33m=\u001B[0m \u001B[1;36m375000\u001B[0m \u001B[1;33m+\u001B[0m \u001B[1;36m700\u001B[0m\u001B[1;33m\u001B[0m\u001B[1;33m\u001B[0m\u001B[0m\n\u001B[0;32m     19\u001B[0m     \u001B[0mstart\u001B[0m \u001B[1;33m=\u001B[0m \u001B[1;36m0\u001B[0m\u001B[1;33m\u001B[0m\u001B[1;33m\u001B[0m\u001B[0m\n\u001B[1;32m---> 20\u001B[1;33m     \u001B[0mdf_orig\u001B[0m \u001B[1;33m=\u001B[0m \u001B[0mdp_utils\u001B[0m\u001B[1;33m.\u001B[0m\u001B[0mparse_hdf_solarhouse2\u001B[0m\u001B[1;33m(\u001B[0m\u001B[0mpath_full\u001B[0m\u001B[1;33m)\u001B[0m\u001B[1;33m\u001B[0m\u001B[1;33m\u001B[0m\u001B[0m\n\u001B[0m\u001B[0;32m     21\u001B[0m     \u001B[0mdf\u001B[0m \u001B[1;33m=\u001B[0m \u001B[0mdf_orig\u001B[0m\u001B[1;33m.\u001B[0m\u001B[0miloc\u001B[0m\u001B[1;33m[\u001B[0m\u001B[0mstart\u001B[0m\u001B[1;33m:\u001B[0m\u001B[0mstart\u001B[0m\u001B[1;33m+\u001B[0m\u001B[0mN_samples\u001B[0m\u001B[1;33m]\u001B[0m\u001B[1;33m\u001B[0m\u001B[1;33m\u001B[0m\u001B[0m\n\u001B[0;32m     22\u001B[0m \u001B[1;33m\u001B[0m\u001B[0m\n",
      "\u001B[1;32mD:\\GitHub\\TUG-CPS\\hybridcosim\\Utilities\\DataProcessing\\data_import.py\u001B[0m in \u001B[0;36mparse_hdf_solarhouse2\u001B[1;34m(filename, keep_nans)\u001B[0m\n\u001B[0;32m    122\u001B[0m \u001B[1;33m\u001B[0m\u001B[0m\n\u001B[0;32m    123\u001B[0m \u001B[1;32mdef\u001B[0m \u001B[0mparse_hdf_solarhouse2\u001B[0m\u001B[1;33m(\u001B[0m\u001B[0mfilename\u001B[0m\u001B[1;33m,\u001B[0m \u001B[0mkeep_nans\u001B[0m\u001B[1;33m=\u001B[0m\u001B[1;32mFalse\u001B[0m\u001B[1;33m)\u001B[0m\u001B[1;33m:\u001B[0m\u001B[1;33m\u001B[0m\u001B[1;33m\u001B[0m\u001B[0m\n\u001B[1;32m--> 124\u001B[1;33m     \u001B[0mdf\u001B[0m \u001B[1;33m=\u001B[0m \u001B[0mparse_hdf\u001B[0m\u001B[1;33m(\u001B[0m\u001B[0mfilename\u001B[0m\u001B[1;33m)\u001B[0m\u001B[1;33m\u001B[0m\u001B[1;33m\u001B[0m\u001B[0m\n\u001B[0m\u001B[0;32m    125\u001B[0m     \u001B[0mdf\u001B[0m \u001B[1;33m=\u001B[0m \u001B[0mdf_utils\u001B[0m\u001B[1;33m.\u001B[0m\u001B[0mremove_spaces_from_labels\u001B[0m\u001B[1;33m(\u001B[0m\u001B[0mdf\u001B[0m\u001B[1;33m)\u001B[0m\u001B[1;33m\u001B[0m\u001B[1;33m\u001B[0m\u001B[0m\n\u001B[0;32m    126\u001B[0m \u001B[1;33m\u001B[0m\u001B[0m\n",
      "\u001B[1;32mD:\\GitHub\\TUG-CPS\\hybridcosim\\Utilities\\DataProcessing\\data_import.py\u001B[0m in \u001B[0;36mparse_hdf\u001B[1;34m(filename)\u001B[0m\n\u001B[0;32m    172\u001B[0m \u001B[1;33m\u001B[0m\u001B[0m\n\u001B[0;32m    173\u001B[0m \u001B[1;32mdef\u001B[0m \u001B[0mparse_hdf\u001B[0m\u001B[1;33m(\u001B[0m\u001B[0mfilename\u001B[0m\u001B[1;33m)\u001B[0m\u001B[1;33m:\u001B[0m\u001B[1;33m\u001B[0m\u001B[1;33m\u001B[0m\u001B[0m\n\u001B[1;32m--> 174\u001B[1;33m     \u001B[1;32mreturn\u001B[0m \u001B[0mpd\u001B[0m\u001B[1;33m.\u001B[0m\u001B[0mread_hdf\u001B[0m\u001B[1;33m(\u001B[0m\u001B[0mfilename\u001B[0m\u001B[1;33m)\u001B[0m\u001B[1;33m\u001B[0m\u001B[1;33m\u001B[0m\u001B[0m\n\u001B[0m\u001B[0;32m    175\u001B[0m \u001B[1;33m\u001B[0m\u001B[0m\n\u001B[0;32m    176\u001B[0m \u001B[1;33m\u001B[0m\u001B[0m\n",
      "\u001B[1;32mD:\\GitHub\\TUG-CPS\\hybridcosim\\venv_39\\lib\\site-packages\\pandas\\io\\pytables.py\u001B[0m in \u001B[0;36mread_hdf\u001B[1;34m(path_or_buf, key, mode, errors, where, start, stop, columns, iterator, chunksize, **kwargs)\u001B[0m\n\u001B[0;32m    427\u001B[0m             \u001B[1;32mraise\u001B[0m \u001B[0mFileNotFoundError\u001B[0m\u001B[1;33m(\u001B[0m\u001B[1;34mf\"File {path_or_buf} does not exist\"\u001B[0m\u001B[1;33m)\u001B[0m\u001B[1;33m\u001B[0m\u001B[1;33m\u001B[0m\u001B[0m\n\u001B[0;32m    428\u001B[0m \u001B[1;33m\u001B[0m\u001B[0m\n\u001B[1;32m--> 429\u001B[1;33m         \u001B[0mstore\u001B[0m \u001B[1;33m=\u001B[0m \u001B[0mHDFStore\u001B[0m\u001B[1;33m(\u001B[0m\u001B[0mpath_or_buf\u001B[0m\u001B[1;33m,\u001B[0m \u001B[0mmode\u001B[0m\u001B[1;33m=\u001B[0m\u001B[0mmode\u001B[0m\u001B[1;33m,\u001B[0m \u001B[0merrors\u001B[0m\u001B[1;33m=\u001B[0m\u001B[0merrors\u001B[0m\u001B[1;33m,\u001B[0m \u001B[1;33m**\u001B[0m\u001B[0mkwargs\u001B[0m\u001B[1;33m)\u001B[0m\u001B[1;33m\u001B[0m\u001B[1;33m\u001B[0m\u001B[0m\n\u001B[0m\u001B[0;32m    430\u001B[0m         \u001B[1;31m# can't auto open/close if we are using an iterator\u001B[0m\u001B[1;33m\u001B[0m\u001B[1;33m\u001B[0m\u001B[0m\n\u001B[0;32m    431\u001B[0m         \u001B[1;31m# so delegate to the iterator\u001B[0m\u001B[1;33m\u001B[0m\u001B[1;33m\u001B[0m\u001B[0m\n",
      "\u001B[1;32mD:\\GitHub\\TUG-CPS\\hybridcosim\\venv_39\\lib\\site-packages\\pandas\\io\\pytables.py\u001B[0m in \u001B[0;36m__init__\u001B[1;34m(self, path, mode, complevel, complib, fletcher32, **kwargs)\u001B[0m\n\u001B[0;32m    589\u001B[0m         \u001B[0mself\u001B[0m\u001B[1;33m.\u001B[0m\u001B[0m_fletcher32\u001B[0m \u001B[1;33m=\u001B[0m \u001B[0mfletcher32\u001B[0m\u001B[1;33m\u001B[0m\u001B[1;33m\u001B[0m\u001B[0m\n\u001B[0;32m    590\u001B[0m         \u001B[0mself\u001B[0m\u001B[1;33m.\u001B[0m\u001B[0m_filters\u001B[0m \u001B[1;33m=\u001B[0m \u001B[1;32mNone\u001B[0m\u001B[1;33m\u001B[0m\u001B[1;33m\u001B[0m\u001B[0m\n\u001B[1;32m--> 591\u001B[1;33m         \u001B[0mself\u001B[0m\u001B[1;33m.\u001B[0m\u001B[0mopen\u001B[0m\u001B[1;33m(\u001B[0m\u001B[0mmode\u001B[0m\u001B[1;33m=\u001B[0m\u001B[0mmode\u001B[0m\u001B[1;33m,\u001B[0m \u001B[1;33m**\u001B[0m\u001B[0mkwargs\u001B[0m\u001B[1;33m)\u001B[0m\u001B[1;33m\u001B[0m\u001B[1;33m\u001B[0m\u001B[0m\n\u001B[0m\u001B[0;32m    592\u001B[0m \u001B[1;33m\u001B[0m\u001B[0m\n\u001B[0;32m    593\u001B[0m     \u001B[1;32mdef\u001B[0m \u001B[0m__fspath__\u001B[0m\u001B[1;33m(\u001B[0m\u001B[0mself\u001B[0m\u001B[1;33m)\u001B[0m\u001B[1;33m:\u001B[0m\u001B[1;33m\u001B[0m\u001B[1;33m\u001B[0m\u001B[0m\n",
      "\u001B[1;32mD:\\GitHub\\TUG-CPS\\hybridcosim\\venv_39\\lib\\site-packages\\pandas\\io\\pytables.py\u001B[0m in \u001B[0;36mopen\u001B[1;34m(self, mode, **kwargs)\u001B[0m\n\u001B[0;32m    738\u001B[0m             \u001B[1;32mraise\u001B[0m \u001B[0mValueError\u001B[0m\u001B[1;33m(\u001B[0m\u001B[0mmsg\u001B[0m\u001B[1;33m)\u001B[0m\u001B[1;33m\u001B[0m\u001B[1;33m\u001B[0m\u001B[0m\n\u001B[0;32m    739\u001B[0m \u001B[1;33m\u001B[0m\u001B[0m\n\u001B[1;32m--> 740\u001B[1;33m         \u001B[0mself\u001B[0m\u001B[1;33m.\u001B[0m\u001B[0m_handle\u001B[0m \u001B[1;33m=\u001B[0m \u001B[0mtables\u001B[0m\u001B[1;33m.\u001B[0m\u001B[0mopen_file\u001B[0m\u001B[1;33m(\u001B[0m\u001B[0mself\u001B[0m\u001B[1;33m.\u001B[0m\u001B[0m_path\u001B[0m\u001B[1;33m,\u001B[0m \u001B[0mself\u001B[0m\u001B[1;33m.\u001B[0m\u001B[0m_mode\u001B[0m\u001B[1;33m,\u001B[0m \u001B[1;33m**\u001B[0m\u001B[0mkwargs\u001B[0m\u001B[1;33m)\u001B[0m\u001B[1;33m\u001B[0m\u001B[1;33m\u001B[0m\u001B[0m\n\u001B[0m\u001B[0;32m    741\u001B[0m \u001B[1;33m\u001B[0m\u001B[0m\n\u001B[0;32m    742\u001B[0m     \u001B[1;32mdef\u001B[0m \u001B[0mclose\u001B[0m\u001B[1;33m(\u001B[0m\u001B[0mself\u001B[0m\u001B[1;33m)\u001B[0m\u001B[1;33m:\u001B[0m\u001B[1;33m\u001B[0m\u001B[1;33m\u001B[0m\u001B[0m\n",
      "\u001B[1;32mD:\\GitHub\\TUG-CPS\\hybridcosim\\venv_39\\lib\\site-packages\\tables\\file.py\u001B[0m in \u001B[0;36mopen_file\u001B[1;34m(filename, mode, title, root_uep, filters, **kwargs)\u001B[0m\n\u001B[0;32m    298\u001B[0m \u001B[1;33m\u001B[0m\u001B[0m\n\u001B[0;32m    299\u001B[0m     \u001B[1;31m# Finally, create the File instance, and return it\u001B[0m\u001B[1;33m\u001B[0m\u001B[1;33m\u001B[0m\u001B[0m\n\u001B[1;32m--> 300\u001B[1;33m     \u001B[1;32mreturn\u001B[0m \u001B[0mFile\u001B[0m\u001B[1;33m(\u001B[0m\u001B[0mfilename\u001B[0m\u001B[1;33m,\u001B[0m \u001B[0mmode\u001B[0m\u001B[1;33m,\u001B[0m \u001B[0mtitle\u001B[0m\u001B[1;33m,\u001B[0m \u001B[0mroot_uep\u001B[0m\u001B[1;33m,\u001B[0m \u001B[0mfilters\u001B[0m\u001B[1;33m,\u001B[0m \u001B[1;33m**\u001B[0m\u001B[0mkwargs\u001B[0m\u001B[1;33m)\u001B[0m\u001B[1;33m\u001B[0m\u001B[1;33m\u001B[0m\u001B[0m\n\u001B[0m\u001B[0;32m    301\u001B[0m \u001B[1;33m\u001B[0m\u001B[0m\n\u001B[0;32m    302\u001B[0m \u001B[1;33m\u001B[0m\u001B[0m\n",
      "\u001B[1;32mD:\\GitHub\\TUG-CPS\\hybridcosim\\venv_39\\lib\\site-packages\\tables\\file.py\u001B[0m in \u001B[0;36m__init__\u001B[1;34m(self, filename, mode, title, root_uep, filters, **kwargs)\u001B[0m\n\u001B[0;32m    748\u001B[0m \u001B[1;33m\u001B[0m\u001B[0m\n\u001B[0;32m    749\u001B[0m         \u001B[1;31m# Now, it is time to initialize the File extension\u001B[0m\u001B[1;33m\u001B[0m\u001B[1;33m\u001B[0m\u001B[0m\n\u001B[1;32m--> 750\u001B[1;33m         \u001B[0mself\u001B[0m\u001B[1;33m.\u001B[0m\u001B[0m_g_new\u001B[0m\u001B[1;33m(\u001B[0m\u001B[0mfilename\u001B[0m\u001B[1;33m,\u001B[0m \u001B[0mmode\u001B[0m\u001B[1;33m,\u001B[0m \u001B[1;33m**\u001B[0m\u001B[0mparams\u001B[0m\u001B[1;33m)\u001B[0m\u001B[1;33m\u001B[0m\u001B[1;33m\u001B[0m\u001B[0m\n\u001B[0m\u001B[0;32m    751\u001B[0m \u001B[1;33m\u001B[0m\u001B[0m\n\u001B[0;32m    752\u001B[0m         \u001B[1;31m# Check filters and set PyTables format version for new files.\u001B[0m\u001B[1;33m\u001B[0m\u001B[1;33m\u001B[0m\u001B[0m\n",
      "\u001B[1;32mD:\\GitHub\\TUG-CPS\\hybridcosim\\venv_39\\lib\\site-packages\\tables\\hdf5extension.pyx\u001B[0m in \u001B[0;36mtables.hdf5extension.File._g_new\u001B[1;34m()\u001B[0m\n",
      "\u001B[1;31mHDF5ExtError\u001B[0m: HDF5 error back trace\n\n  File \"C:\\ci\\hdf5_1611496732392\\work\\src\\H5F.c\", line 793, in H5Fopen\n    unable to open file\n  File \"C:\\ci\\hdf5_1611496732392\\work\\src\\H5VLcallback.c\", line 3500, in H5VL_file_open\n    open failed\n  File \"C:\\ci\\hdf5_1611496732392\\work\\src\\H5VLcallback.c\", line 3465, in H5VL__file_open\n    open failed\n  File \"C:\\ci\\hdf5_1611496732392\\work\\src\\H5VLnative_file.c\", line 100, in H5VL__native_file_open\n    unable to open file\n  File \"C:\\ci\\hdf5_1611496732392\\work\\src\\H5Fint.c\", line 1707, in H5F_open\n    unable to read superblock\n  File \"C:\\ci\\hdf5_1611496732392\\work\\src\\H5Fsuper.c\", line 412, in H5F__super_read\n    file signature not found\n\nEnd of HDF5 error back trace\n\nUnable to open/create file 'D:\\GitHub\\TUG-CPS\\hybridcosim\\Data/AEE/P2017_20_Solarhouse_2.csv'"
     ]
    }
   ],
   "source": [
    "if __name__ == \"__main__\":\n",
    "    fig_save_path = \"./Figures\"\n",
    "    filename = \"P2017_20_Solarhouse_2.csv\"\n",
    "    hybridcosim_path = os.environ.get(\"HYBRIDCOSIM_REPO_PATH\", \"../../\")\n",
    "    path_to_dir = os.path.join(hybridcosim_path, \"Data/AEE/\")\n",
    "    path_full = os.path.join(path_to_dir, filename)\n",
    "    datahouse = pd.read_csv(path_full, sep=\";\")\n",
    "\n",
    "    lab = ['T_P_oo', 'T_P_o', 'T_P_mo', 'T_P_mu', 'T_P_u', 'T_Holzkessel', 'T_Wohnraumofen',\n",
    "           'T_Solar_VL', 'T_Solar_RL', 'Vd_Solar',\n",
    "           'T_Nachheizung_VL', 'T_Nachheizung_RL', 'Vd_Nachheizung',\n",
    "           'T_WW_VL', 'T_WW_RL', 'Vd_WW',\n",
    "           'T_FBH_VL', 'T_FBH_RL', 'Vd_FBH',\n",
    "           'Qel_Technik', 'Pel_Technik', 'Qel_Haushalt', 'Pel_Haushalt',\n",
    "           'T_Raum', 'P_Holzkessel_calc', 'P_Ofen_calc', 'P_Recool']\n",
    "\n",
    "    N_samples = 5000\n",
    "    start = 375000 + 700\n",
    "    start = 0\n",
    "    df_orig = dp_utils.parse_hdf_solarhouse2(path_full)\n",
    "    df = df_orig.iloc[start:start+N_samples]\n",
    "\n",
    "    colors = ['red', 'blue', 'orange', 'purple']"
   ],
   "metadata": {
    "collapsed": false,
    "pycharm": {
     "name": "#%%\n"
    }
   }
  },
  {
   "cell_type": "code",
   "execution_count": null,
   "outputs": [],
   "source": [
    "    '''Storage Tank Labels'''\n",
    "    storage_tank_labels = ['T_P_top', 'T_P_o', 'T_P_mo', 'T_P_mu', 'T_P_u']\n",
    "    storage_tank_legends = ['Storage top top', 'Storage top', 'Storage middle top', 'Storage middle bottom', 'Storage bottom' ]\n",
    "\n",
    "    '''Temperature Labels'''\n",
    "    temperature_labels = ['T_Solar_VL', 'T_WW_RL', 'T_FBH_RL', 'T_Nachheizung_VL']\n",
    "    temperature_legends = ['Solar supply', 'Domestic hot water return', 'Floor Heating return', 'Stove/Boiler supply']\n",
    "\n",
    "    ''' Solar labels'''\n",
    "    solar_labels = ['T_Solar_VL', 'T_Solar_RL', 'T_Solar_pri_VL','T_Solar_pri_RL']\n",
    "    solar_colors = ['red', 'blue', 'red', 'blue']\n",
    "    linestyles = ['-', '-', '--','--']\n",
    "    solar_legends = ['Solar supply', 'Solar return', 'Solar Supply Primary (collector side)', 'Solar return primary']\n",
    "\n",
    "    ''' Y Labels '''\n",
    "    ylabel_temperature = 'Temperature [°C]'\n",
    "    ylabel_massflow = 'Volume flow rate'\n",
    "\n",
    "    '''Storage Tank Temperatures'''\n",
    "\n",
    "    # normalize mass flows\n",
    "    massflow_labels = ['Vd_Solar', 'Vd_WW', 'Vd_FBH', 'Vd_Nachheizung']"
   ],
   "metadata": {
    "collapsed": false,
    "pycharm": {
     "name": "#%%\n"
    }
   }
  },
  {
   "cell_type": "code",
   "execution_count": null,
   "outputs": [],
   "source": [
    "    for label in massflow_labels:\n",
    "        sigutils.scale_curve(df, label)\n",
    "\n",
    "    scaled_massflow_labels = ['Vd_Solar_scaled', 'Vd_FBH_scaled', 'Vd_WW_scaled', 'Vd_Nachheizung_scaled']\n",
    "    scaled_massflow_legends = ['Scaled Solar Volume flow', 'Scaled Warm Water Volume flow',\n",
    "                               'Scaled Floor Heating Volume flow', 'Scaled Boiler Volume flow']"
   ],
   "metadata": {
    "collapsed": false,
    "pycharm": {
     "name": "#%%\n"
    }
   }
  },
  {
   "cell_type": "code",
   "execution_count": null,
   "outputs": [],
   "source": [
    "    '''Floor Heating'''\n",
    "    fbh_temperature_labels = ['T_FBH_VL', 'T_FBH_RL']\n",
    "    fbh_temperature_legends = ['Floor Heating Supply', 'Floor Heating Return']\n",
    "\n",
    "    data = [df[storage_tank_labels], df[fbh_temperature_labels], [df[['Vd_FBH']],df[['Pu_FBH']]]]\n",
    "    labels = [storage_tank_legends, fbh_temperature_legends, [['Volume flow Floor Heating'],['Pump Floor Heating']]]\n",
    "    plt_utils.plt_subplots(data,fig_save_path=fig_save_path, fig_title='Floor Heating', linestyle=\"--\", figsize=(10,10),show_ylabel=False)\n"
   ],
   "metadata": {
    "collapsed": false,
    "pycharm": {
     "name": "#%%\n"
    }
   }
  },
  {
   "cell_type": "code",
   "execution_count": null,
   "outputs": [],
   "source": [
    "    # Plot spectrum of floor heating\n",
    "    #df = df.iloc[:N_samples]\n",
    "    signal = df['Vd_FBH']\n",
    "    time_axis = df.index\n",
    "    signal_zeromean, offset = sigutils.remove_offset(signal)\n",
    "    fft_data = sigutils.fft_abs(signal_zeromean)\n",
    "    plt_dist.plot_spectra(signal_zeromean, fft_data=fft_data)"
   ],
   "metadata": {
    "collapsed": false,
    "pycharm": {
     "name": "#%%\n"
    }
   }
  },
  {
   "cell_type": "code",
   "execution_count": null,
   "outputs": [],
   "source": [
    "    # Main frequency: Period: 20 samples - Frequency 0.05 fs\n",
    "    T = 20\n",
    "    # Cutoff frequency: 1 / 10 * main frequency - 0.005 fs\n",
    "    y = sigutils.filter_signal(signal, T)\n",
    "    env_avg_filtered, envelope_h, envelope_l = sigutils.calc_avg_envelope(signal, T)\n",
    "\n",
    "    plt.figure(figsize=(20,10))\n",
    "    #plt.plot(signal, linestyle = '--', label='Original signal')\n",
    "    plt.plot(time_axis, y, label='Filtered signal')\n",
    "    plt.plot(time_axis, envelope_h, label='Envelope high', color='gray')\n",
    "    plt.plot(time_axis, envelope_l, label='Envelope low', color='gray')\n",
    "    plt.plot(time_axis, env_avg_filtered, label='Envelope average filtered')\n",
    "    plt.title('VD_FBH')\n",
    "    plt.legend()\n",
    "    plt.show()"
   ],
   "metadata": {
    "collapsed": false,
    "pycharm": {
     "name": "#%%\n"
    }
   }
  },
  {
   "cell_type": "code",
   "execution_count": null,
   "outputs": [],
   "source": [
    "    signal_zeromean, _ = sigutils.remove_offset(env_avg_filtered)\n",
    "    fft_data = sigutils.fft_abs(signal_zeromean, spectrum_range=0.05)\n",
    "    plt_dist.plot_spectra(signal_zeromean, fft_data)"
   ],
   "metadata": {
    "collapsed": false,
    "pycharm": {
     "name": "#%% Avg Envelope\n"
    }
   }
  },
  {
   "cell_type": "code",
   "execution_count": null,
   "outputs": [],
   "source": [
    "    signal_zeromean,_ = sigutils.remove_offset(y)\n",
    "    fft_data = sigutils.fft_abs(signal_zeromean, spectrum_range=0.05)\n",
    "    plt_dist.plot_spectra(signal_zeromean, fft_data)\n"
   ],
   "metadata": {
    "collapsed": false,
    "pycharm": {
     "name": "#%% Filtered data\n"
    }
   }
  },
  {
   "cell_type": "code",
   "execution_count": null,
   "outputs": [],
   "source": [
    "    signal = df['T_FBH_VL']\n",
    "    signal_zeromean, _ = sigutils.remove_offset(signal)\n",
    "\n",
    "    df['T_FBH_VL_filtered'] = y\n",
    "    df['T_FBH_VL_env_h'] = envelope_h\n",
    "    df['T_FBH_VL_env_l'] = envelope_l\n",
    "    df['T_FBH_VL_env_avg_filtered'] = env_avg_filtered\n",
    "\n",
    "    labels_envs = ['T_FBH_VL_env_h', 'T_FBH_VL_filtered',  'T_FBH_VL_env_l', 'T_FBH_VL_env_avg_filtered']\n",
    "    legends_envs = ['Envelope high ','Filtered Signal', 'Envelope low', 'Envelope average filtered']\n",
    "\n",
    "    data = [df[labels_envs]]\n",
    "    labels = [labels_envs]\n",
    "    plt_utils.plt_subplots(data,fig_save_path=fig_save_path, fig_title='TFBH_VL', linestyle=\"--\", figsize=(10,10),show_ylabel=False)"
   ],
   "metadata": {
    "collapsed": false,
    "pycharm": {
     "name": "#%%\n"
    }
   }
  },
  {
   "cell_type": "code",
   "execution_count": null,
   "outputs": [],
   "source": [
    "    env_thresholded, _ = sigutils.threshold_data(df, labels_envs, 'Pu_FBH')\n",
    "    labels_env_thresholded = [f\"{label}_thresh\" for label in labels_envs]\n",
    "    legends_env_thresholded = [f\"{legend} thresholded\" for legend in legends_envs]\n",
    "    for label in labels_envs:\n",
    "        df[f\"{label}_thresh\"] = env_thresholded[label]\n",
    "\n",
    "\n",
    "    data = [[df[labels_env_thresholded], df[['Pu_FBH']]]]\n",
    "    labels = [[legends_env_thresholded, 'Pu_FBH']]\n",
    "    plt_utils.plt_subplots(data,fig_save_path=fig_save_path, fig_title='TFBH_VL - Thresholded',linestyle=\"--\", figsize=(10,10),show_ylabel=False)\n",
    "\n",
    "    #Vd_thresholded = lowpass_fft(signal,fcut=0.1)\n",
    "    #plot_spectra(Vd_thresholded)\n"
   ],
   "metadata": {
    "collapsed": false,
    "pycharm": {
     "name": "#%%\n"
    }
   }
  },
  {
   "cell_type": "code",
   "execution_count": null,
   "outputs": [],
   "source": [
    "    import numpy as np\n",
    "    percentage = np.sum(df['Vd_Solar'] > 0) / df.shape[0]\n",
    "    print(percentage)\n"
   ],
   "metadata": {
    "collapsed": false,
    "pycharm": {
     "name": "#%%\n"
    }
   }
  },
  {
   "cell_type": "code",
   "execution_count": null,
   "outputs": [],
   "source": [
    "    data = [df_orig[['T_Solar_VL','T_Solar_RL']],df[['T_Solar_VL', 'T_Solar_RL']]]\n",
    "    plt_utils.plt_subplots(data,fig_save_path=fig_save_path, fig_title='T_Solar_VL', linestyle=\"--\", figsize=(10,4),show_ylabel=False)\n"
   ],
   "metadata": {
    "collapsed": false,
    "pycharm": {
     "name": "#%%\n"
    }
   }
  },
  {
   "cell_type": "code",
   "execution_count": null,
   "outputs": [],
   "source": [
    "    sig_zm,_ = sigutils.remove_offset(df_orig['T_Solar_VL'])\n",
    "    fft_freqs, fft_abs = sigutils.fft_abs(sig_zm)\n",
    "    plt.figure(figsize=(10,5))\n",
    "    plt.title('Spectral Analysis - T_Solar_VL')\n",
    "    plt.stem(fft_freqs, fft_abs)\n",
    "    plt.ylabel('Magnitude')\n",
    "    plt.xlabel('Frequency (normalized)')\n",
    "    plt.savefig('./Figures/spec_tsolarvl.png')\n",
    "    tikzplotlib.save('./Figures/spec_tsolarvl.tex')\n",
    "    plt.show()"
   ],
   "metadata": {
    "collapsed": false,
    "pycharm": {
     "name": "#%%\n"
    }
   }
  },
  {
   "cell_type": "code",
   "execution_count": null,
   "outputs": [],
   "source": [
    "    def get_mean_over_time_ranges(data, time):\n",
    "        import numpy as np\n",
    "        return [np.mean(data[curtime[0]:curtime[1]].values) for curtime in time]\n",
    "\n",
    "    def get_vals_in_hour_range(data, hours):\n",
    "        return data[data.index.hour.isin(hours)]\n",
    "\n",
    "    df = df_orig\n",
    "    import pandas as pd\n",
    "    from pandas.tseries.offsets import MonthEnd\n",
    "    time = [[pd.Timestamp(2019,month,1),pd.Timestamp(2019,month,1) + MonthEnd(1)] for month in range(2,12)]\n",
    "    print(time)\n",
    "    TSolarVL = df[['T_Solar_VL']]\n",
    "\n",
    "    import matplotlib.pyplot as plt\n",
    "    import numpy as np\n",
    "    hours = list(range(6)) + list(range(18,24))\n",
    "    # TODO improve this code!\n",
    "    df['Mean night value'] = np.zeros((df.shape[0]))\n",
    "    means = get_mean_over_time_ranges(get_vals_in_hour_range(TSolarVL, hours), time)\n",
    "    for curtime, mean in zip(time, means):\n",
    "        df['Mean night value'][curtime[0]:curtime[1]] = mean\n",
    "    print(np.mean(means))\n",
    "    plt_utils.plt_subplots([TSolarVL[curtime[0]:curtime[1]].join(df[['Mean night value']][curtime[0]:curtime[1]]) for curtime in time],fig_save_path=fig_save_path, fig_title= 'Seasonal Trend', linestyle=\"--\", figsize=(15,20),show_ylabel=False, ylim=(25,65))"
   ],
   "metadata": {
    "collapsed": false,
    "pycharm": {
     "name": "#%%   deltaT = df[['DeltaTSolar']]\n"
    }
   }
  },
  {
   "cell_type": "code",
   "execution_count": null,
   "outputs": [],
   "source": [
    "    plt.figure(figsize=(10,2))\n",
    "    plt.plot(df[['T_Solar_VL', 'T_Solar_RL']][0*96+0:0*96+96])\n",
    "    plt.ylabel('TSolarVL, TSolarRL')\n",
    "    plt.legend(['TSolarVL','TSolarRL'])\n",
    "    plt.show()"
   ],
   "metadata": {
    "collapsed": false,
    "pycharm": {
     "name": "#%%\n"
    }
   }
  },
  {
   "cell_type": "code",
   "execution_count": null,
   "outputs": [],
   "source": [
    "    plt.figure(figsize=(10,2))\n",
    "    plt.plot(df['T_Solar_VL'][df['Vd_Solar_inv'] <= 0.5 * max(df['Vd_Solar_inv'])])\n",
    "\n"
   ],
   "metadata": {
    "collapsed": false,
    "pycharm": {
     "name": "#%%\n"
    }
   }
  }
 ],
 "metadata": {
  "kernelspec": {
   "display_name": "Python 3",
   "language": "python",
   "name": "python3"
  },
  "language_info": {
   "codemirror_mode": {
    "name": "ipython",
    "version": 2
   },
   "file_extension": ".py",
   "mimetype": "text/x-python",
   "name": "python",
   "nbconvert_exporter": "python",
   "pygments_lexer": "ipython2",
   "version": "2.7.6"
  }
 },
 "nbformat": 4,
 "nbformat_minor": 0
}